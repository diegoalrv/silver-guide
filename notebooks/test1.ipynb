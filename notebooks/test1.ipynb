{
 "cells": [
  {
   "cell_type": "code",
   "execution_count": 4,
   "metadata": {},
   "outputs": [
    {
     "name": "stdout",
     "output_type": "stream",
     "text": [
      "    (  0.0002 sec |   0.0000 sec) OBJ Export path: 'cuadrado.obj'\n",
      "          (  0.0008 sec |   0.0005 sec) Finished writing geometry of 'Cube'.\n",
      "      (  0.0009 sec |   0.0006 sec) Finished exporting geometry, now exporting materials\n",
      "      (  0.0009 sec |   0.0007 sec) OBJ Export Finished\n",
      "Progress: 100.00%\n",
      "\n"
     ]
    },
    {
     "data": {
      "text/plain": [
       "{'FINISHED'}"
      ]
     },
     "execution_count": 4,
     "metadata": {},
     "output_type": "execute_result"
    }
   ],
   "source": [
    "import bpy\n",
    "\n",
    "# Eliminar todos los objetos de la escena por defecto\n",
    "bpy.ops.object.select_all(action='DESELECT')\n",
    "bpy.ops.object.select_by_type(type='MESH')\n",
    "bpy.ops.object.delete()\n",
    "\n",
    "# Crear un nuevo cubo\n",
    "bpy.ops.mesh.primitive_cube_add(size=5, location=(0, 0, 2.5))\n",
    "\n",
    "# Cambiar el modo de objeto a modo de edición\n",
    "bpy.ops.object.mode_set(mode='EDIT')\n",
    "\n",
    "# Seleccionar todos los vértices\n",
    "bpy.ops.mesh.select_all(action='SELECT')\n",
    "\n",
    "# Escalar el cubo para convertirlo en un cuadrado\n",
    "bpy.ops.transform.resize(value=(0.5, 0.5, 1))\n",
    "\n",
    "# Salir del modo de edición\n",
    "bpy.ops.object.mode_set(mode='OBJECT')\n",
    "\n",
    "# Guardar el objeto en un archivo .obj\n",
    "bpy.ops.export_scene.obj(filepath='cuadrado.obj', use_selection=True)\n"
   ]
  },
  {
   "cell_type": "code",
   "execution_count": 6,
   "metadata": {},
   "outputs": [
    {
     "name": "stdout",
     "output_type": "stream",
     "text": [
      "    (  0.0002 sec |   0.0000 sec) OBJ Export path: 'mesa.obj'\n",
      "          (  0.0007 sec |   0.0003 sec) Finished writing geometry of 'Cube.003'.\n",
      "      (  0.0007 sec |   0.0005 sec) Finished exporting geometry, now exporting materials\n",
      "      (  0.0008 sec |   0.0006 sec) OBJ Export Finished\n",
      "Progress: 100.00%\n",
      "\n"
     ]
    },
    {
     "data": {
      "text/plain": [
       "{'FINISHED'}"
      ]
     },
     "execution_count": 6,
     "metadata": {},
     "output_type": "execute_result"
    }
   ],
   "source": [
    "import bpy\n",
    "\n",
    "# Eliminar todos los objetos de la escena por defecto\n",
    "bpy.ops.object.select_all(action='DESELECT')\n",
    "bpy.ops.object.select_by_type(type='MESH')\n",
    "bpy.ops.object.delete()\n",
    "\n",
    "# Dimensiones de la mesa\n",
    "alto = 0.7\n",
    "largo = 1.2\n",
    "ancho = 1.0\n",
    "\n",
    "# Crear la superficie rectangular (mesa)\n",
    "bpy.ops.mesh.primitive_plane_add(size=1, enter_editmode=False, align='WORLD', location=(0, 0, alto/2))\n",
    "mesa = bpy.context.active_object\n",
    "mesa.scale.x = largo\n",
    "mesa.scale.y = ancho\n",
    "mesa.scale.z = alto\n",
    "\n",
    "# Crear las patas de la mesa\n",
    "leg_locations = [\n",
    "    (largo/2, ancho/2, 0),\n",
    "    (-largo/2, ancho/2, 0),\n",
    "    (largo/2, -ancho/2, 0),\n",
    "    (-largo/2, -ancho/2, 0)\n",
    "]\n",
    "\n",
    "for loc in leg_locations:\n",
    "    bpy.ops.mesh.primitive_cube_add(size=0.05, location=(loc[0], loc[1], alto/2 - 0.35))\n",
    "    leg = bpy.context.active_object\n",
    "    leg.scale.z = alto - 0.35\n",
    "\n",
    "# Guardar el objeto en un archivo .obj\n",
    "bpy.ops.export_scene.obj(filepath='mesa.obj', use_selection=True)\n"
   ]
  }
 ],
 "metadata": {
  "kernelspec": {
   "display_name": "Python 3",
   "language": "python",
   "name": "python3"
  },
  "language_info": {
   "codemirror_mode": {
    "name": "ipython",
    "version": 3
   },
   "file_extension": ".py",
   "mimetype": "text/x-python",
   "name": "python",
   "nbconvert_exporter": "python",
   "pygments_lexer": "ipython3",
   "version": "3.10.12"
  },
  "orig_nbformat": 4
 },
 "nbformat": 4,
 "nbformat_minor": 2
}
