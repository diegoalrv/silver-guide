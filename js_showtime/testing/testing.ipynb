{
 "cells": [
  {
   "cell_type": "code",
   "execution_count": 33,
   "metadata": {},
   "outputs": [
    {
     "name": "stdout",
     "output_type": "stream",
     "text": [
      "Enviando movimiento...\n",
      "Respuesta de POST: {'message': 'Movement updated'}\n"
     ]
    }
   ],
   "source": [
    "import requests\n",
    "import time\n",
    "\n",
    "# URL del servidor Flask (ajusta según sea necesario)\n",
    "BASE_URL = \"http://localhost:5000\"\n",
    "\n",
    "def post_movement(axis, steps, speed):\n",
    "    \"\"\"Envía una solicitud POST para actualizar el movimiento.\"\"\"\n",
    "    url = f\"{BASE_URL}/update_movement\"\n",
    "    data = {\"axis\": axis, \"steps\": steps, \"speed\": speed}\n",
    "    response = requests.post(url, json=data)\n",
    "    return response.json()\n",
    "\n",
    "def get_movement():\n",
    "    \"\"\"Envía una solicitud GET para obtener el estado del movimiento.\"\"\"\n",
    "    url = f\"{BASE_URL}/get_movement\"\n",
    "    response = requests.get(url)\n",
    "    return response.json()\n",
    "\n",
    "# Ejemplo de cómo usar las funciones\n",
    "if __name__ == \"__main__\":\n",
    "    # Enviar un movimiento\n",
    "    print(\"Enviando movimiento...\")\n",
    "    post_response = post_movement(\"z\", -10, 0.01)\n",
    "    print(\"Respuesta de POST:\", post_response)"
   ]
  }
 ],
 "metadata": {
  "kernelspec": {
   "display_name": "env",
   "language": "python",
   "name": "python3"
  },
  "language_info": {
   "codemirror_mode": {
    "name": "ipython",
    "version": 3
   },
   "file_extension": ".py",
   "mimetype": "text/x-python",
   "name": "python",
   "nbconvert_exporter": "python",
   "pygments_lexer": "ipython3",
   "version": "3.10.0"
  }
 },
 "nbformat": 4,
 "nbformat_minor": 2
}
