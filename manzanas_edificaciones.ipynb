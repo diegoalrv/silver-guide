{
 "cells": [
  {
   "cell_type": "code",
   "execution_count": null,
   "metadata": {},
   "outputs": [],
   "source": [
    "import random\n",
    "\n",
    "# Seleccionando una manzana sin edificaciones\n",
    "# Esto se hace encontrando manzanas que no se intersectan con ninguna edificación existente\n",
    "manzanas_sin_edificaciones = gpd.overlay(manzanas_filtradas_nuevo, edificaciones_filtradas_nuevo, how='difference')\n",
    "\n",
    "# Seleccionando aleatoriamente una manzana sin edificaciones\n",
    "manzana_seleccionada = manzanas_sin_edificaciones.sample(1)\n",
    "\n",
    "# Obteniendo dimensiones promedio de las edificaciones existentes\n",
    "dimensiones_edificaciones = edificaciones_filtradas_nuevo.geometry.apply(lambda x: x.bounds)\n",
    "ancho_promedio = dimensiones_edificaciones.apply(lambda x: x[2] - x[0]).mean()\n",
    "alto_promedio = dimensiones_edificaciones.apply(lambda x: x[3] - x[1]).mean()\n",
    "\n",
    "# Creando un nuevo polígono que simula una edificación dentro de la manzana seleccionada\n",
    "xmin_manzana, ymin_manzana, xmax_manzana, ymax_manzana = manzana_seleccionada.geometry.bounds.iloc[0]\n",
    "\n",
    "# Asegurando que el nuevo polígono quepa dentro de la manzana\n",
    "x_inicio = random.uniform(xmin_manzana, xmax_manzana - ancho_promedio)\n",
    "y_inicio = random.uniform(ymin_manzana, ymax_manzana - alto_promedio)\n",
    "nuevo_poligono = Polygon([\n",
    "    (x_inicio, y_inicio),\n",
    "    (x_inicio + ancho_promedio, y_inicio),\n",
    "    (x_inicio + ancho_promedio, y_inicio + alto_promedio),\n",
    "    (x_inicio, y_inicio + alto_promedio)\n",
    "])\n",
    "\n",
    "# Agregando el nuevo polígono a la lista de edificaciones\n",
    "nuevas_edificaciones = edificaciones_filtradas_nuevo.copy()\n",
    "nuevas_edificaciones = nuevas_edificaciones.append({'geometry': nuevo_poligono}, ignore_index=True)\n",
    "\n",
    "# Visualización con la nueva edificación\n",
    "plt.figure(figsize=(10, 10))\n",
    "manzanas_filtradas_nuevo.plot(ax=plt.gca(), color='green', alpha=0.2)  # Manzanas\n",
    "nuevas_edificaciones.plot(ax=plt.gca(), color='blue', alpha=0.3)        # Edificaciones existentes y nueva\n",
    "plt.title('Manzanas con Nueva Edificación Generada')\n",
    "plt.xlabel('Coordenada X')\n",
    "plt.ylabel('Coordenada Y')\n",
    "plt.show()\n"
   ]
  }
 ],
 "metadata": {
  "language_info": {
   "name": "python"
  }
 },
 "nbformat": 4,
 "nbformat_minor": 2
}
