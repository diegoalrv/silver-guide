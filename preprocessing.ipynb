{
 "cells": [
  {
   "cell_type": "code",
   "execution_count": 20,
   "metadata": {},
   "outputs": [],
   "source": [
    "import geopandas as gpd\n",
    "import pandas as pd\n",
    "import matplotlib.pyplot as plt"
   ]
  },
  {
   "cell_type": "code",
   "execution_count": null,
   "metadata": {},
   "outputs": [],
   "source": [
    "ed_actual = gpd.read_file('./data/edif_actual')\n",
    "ed_actual.to_parquet('./data/legotizacion_set/construcciones_actuales.parquet')\n",
    "ed_actual.to_file('./data/legotizacion_set/construcciones_actuales')\n",
    "ed_cols = ed_actual.columns\n",
    "f1 = gpd.read_file('./data/edif_futuro/futuro')\n",
    "f1.dropna(subset=['geometry'], inplace=True)\n",
    "mask_pisos = (f1['Pisos']>0)\n",
    "mask_altura = (f1['Metros']==0)\n",
    "\n",
    "f1.loc[mask_altura&mask_pisos, 'Metros'] = f1.loc[mask_altura&mask_pisos,'Pisos']*2.3\n",
    "mask_pisos = (f1['Pisos']==0)\n",
    "mask_altura = (f1['Metros']==0)\n",
    "\n",
    "f1 = f1[~(mask_pisos&mask_altura)]\n",
    "f1 = f1[ed_cols]\n",
    "f2 = gpd.read_file('./data/edif_futuro/pdv')\n",
    "f2.dropna(subset=['Pisos'], inplace=True)\n",
    "f2['Metros'] = f2['Pisos']*2.3\n",
    "f2 = f2[f2['Metros']>0]\n",
    "f2 = f2[ed_cols]\n",
    "# Corregir geometrías inválidas con buffer(0)\n",
    "f1['geometry'] = f1.geometry.buffer(0)\n",
    "f2['geometry'] = f2.geometry.buffer(0)\n",
    "f1 = f1[f1.is_valid]\n",
    "f2 = f2[f2.is_valid]\n",
    "ed_future = pd.concat([f1,f2])\n",
    "ed_future = gpd.GeoDataFrame(data=ed_future.drop(columns=['geometry']), geometry=ed_future['geometry'])\n",
    "\n",
    "ed_future.to_parquet('./data/legotizacion_set/construcciones_futuras.parquet')\n",
    "ed_future.to_file('./data/legotizacion_set/construcciones_futuras')"
   ]
  },
  {
   "cell_type": "code",
   "execution_count": 52,
   "metadata": {},
   "outputs": [],
   "source": [
    "# ed_actual = gpd.read_file('./data/legotizacion_set/construcciones_actuales')\n",
    "# ed_future = gpd.read_file('./data/legotizacion_set/construcciones_futuras')"
   ]
  },
  {
   "cell_type": "markdown",
   "metadata": {},
   "source": []
  },
  {
   "cell_type": "code",
   "execution_count": 57,
   "metadata": {},
   "outputs": [],
   "source": [
    "# ed_actual.to_parquet('./data/legotizacion_set/actual_buildings.parquet')\n",
    "# ed_future.to_parquet('./data/legotizacion_set/future_buildings.parquet')"
   ]
  }
 ],
 "metadata": {
  "kernelspec": {
   "display_name": "env",
   "language": "python",
   "name": "python3"
  },
  "language_info": {
   "codemirror_mode": {
    "name": "ipython",
    "version": 3
   },
   "file_extension": ".py",
   "mimetype": "text/x-python",
   "name": "python",
   "nbconvert_exporter": "python",
   "pygments_lexer": "ipython3",
   "version": "3.10.0"
  }
 },
 "nbformat": 4,
 "nbformat_minor": 2
}
